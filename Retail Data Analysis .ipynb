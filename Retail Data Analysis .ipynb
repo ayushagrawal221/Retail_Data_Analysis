{
 "cells": [
  {
   "cell_type": "code",
   "execution_count": 142,
   "id": "collectible-douglas",
   "metadata": {},
   "outputs": [],
   "source": [
    "import pandas as pd\n",
    "import numpy as np\n",
    "import seaborn as sns\n",
    "import matplotlib.pyplot as plt\n",
    "%matplotlib inline\n",
    "import warnings\n",
    "warnings.simplefilter(\"ignore\")\n",
    "from plotnine import *"
   ]
  },
  {
   "cell_type": "code",
   "execution_count": 143,
   "id": "pressed-tiger",
   "metadata": {
    "scrolled": true
   },
   "outputs": [
    {
     "data": {
      "text/html": [
       "<div>\n",
       "<style scoped>\n",
       "    .dataframe tbody tr th:only-of-type {\n",
       "        vertical-align: middle;\n",
       "    }\n",
       "\n",
       "    .dataframe tbody tr th {\n",
       "        vertical-align: top;\n",
       "    }\n",
       "\n",
       "    .dataframe thead th {\n",
       "        text-align: right;\n",
       "    }\n",
       "</style>\n",
       "<table border=\"1\" class=\"dataframe\">\n",
       "  <thead>\n",
       "    <tr style=\"text-align: right;\">\n",
       "      <th></th>\n",
       "      <th>Ship Mode</th>\n",
       "      <th>Segment</th>\n",
       "      <th>Country</th>\n",
       "      <th>City</th>\n",
       "      <th>State</th>\n",
       "      <th>Postal Code</th>\n",
       "      <th>Region</th>\n",
       "      <th>Category</th>\n",
       "      <th>Sub-Category</th>\n",
       "      <th>Sales</th>\n",
       "      <th>Quantity</th>\n",
       "      <th>Discount</th>\n",
       "      <th>Profit</th>\n",
       "    </tr>\n",
       "  </thead>\n",
       "  <tbody>\n",
       "    <tr>\n",
       "      <th>0</th>\n",
       "      <td>Second Class</td>\n",
       "      <td>Consumer</td>\n",
       "      <td>United States</td>\n",
       "      <td>Henderson</td>\n",
       "      <td>Kentucky</td>\n",
       "      <td>42420</td>\n",
       "      <td>South</td>\n",
       "      <td>Furniture</td>\n",
       "      <td>Bookcases</td>\n",
       "      <td>261.9600</td>\n",
       "      <td>2</td>\n",
       "      <td>0.00</td>\n",
       "      <td>41.9136</td>\n",
       "    </tr>\n",
       "    <tr>\n",
       "      <th>1</th>\n",
       "      <td>Second Class</td>\n",
       "      <td>Consumer</td>\n",
       "      <td>United States</td>\n",
       "      <td>Henderson</td>\n",
       "      <td>Kentucky</td>\n",
       "      <td>42420</td>\n",
       "      <td>South</td>\n",
       "      <td>Furniture</td>\n",
       "      <td>Chairs</td>\n",
       "      <td>731.9400</td>\n",
       "      <td>3</td>\n",
       "      <td>0.00</td>\n",
       "      <td>219.5820</td>\n",
       "    </tr>\n",
       "    <tr>\n",
       "      <th>2</th>\n",
       "      <td>Second Class</td>\n",
       "      <td>Corporate</td>\n",
       "      <td>United States</td>\n",
       "      <td>Los Angeles</td>\n",
       "      <td>California</td>\n",
       "      <td>90036</td>\n",
       "      <td>West</td>\n",
       "      <td>Office Supplies</td>\n",
       "      <td>Labels</td>\n",
       "      <td>14.6200</td>\n",
       "      <td>2</td>\n",
       "      <td>0.00</td>\n",
       "      <td>6.8714</td>\n",
       "    </tr>\n",
       "    <tr>\n",
       "      <th>3</th>\n",
       "      <td>Standard Class</td>\n",
       "      <td>Consumer</td>\n",
       "      <td>United States</td>\n",
       "      <td>Fort Lauderdale</td>\n",
       "      <td>Florida</td>\n",
       "      <td>33311</td>\n",
       "      <td>South</td>\n",
       "      <td>Furniture</td>\n",
       "      <td>Tables</td>\n",
       "      <td>957.5775</td>\n",
       "      <td>5</td>\n",
       "      <td>0.45</td>\n",
       "      <td>-383.0310</td>\n",
       "    </tr>\n",
       "    <tr>\n",
       "      <th>4</th>\n",
       "      <td>Standard Class</td>\n",
       "      <td>Consumer</td>\n",
       "      <td>United States</td>\n",
       "      <td>Fort Lauderdale</td>\n",
       "      <td>Florida</td>\n",
       "      <td>33311</td>\n",
       "      <td>South</td>\n",
       "      <td>Office Supplies</td>\n",
       "      <td>Storage</td>\n",
       "      <td>22.3680</td>\n",
       "      <td>2</td>\n",
       "      <td>0.20</td>\n",
       "      <td>2.5164</td>\n",
       "    </tr>\n",
       "  </tbody>\n",
       "</table>\n",
       "</div>"
      ],
      "text/plain": [
       "        Ship Mode    Segment        Country             City       State  \\\n",
       "0    Second Class   Consumer  United States        Henderson    Kentucky   \n",
       "1    Second Class   Consumer  United States        Henderson    Kentucky   \n",
       "2    Second Class  Corporate  United States      Los Angeles  California   \n",
       "3  Standard Class   Consumer  United States  Fort Lauderdale     Florida   \n",
       "4  Standard Class   Consumer  United States  Fort Lauderdale     Florida   \n",
       "\n",
       "   Postal Code Region         Category Sub-Category     Sales  Quantity  \\\n",
       "0        42420  South        Furniture    Bookcases  261.9600         2   \n",
       "1        42420  South        Furniture       Chairs  731.9400         3   \n",
       "2        90036   West  Office Supplies       Labels   14.6200         2   \n",
       "3        33311  South        Furniture       Tables  957.5775         5   \n",
       "4        33311  South  Office Supplies      Storage   22.3680         2   \n",
       "\n",
       "   Discount    Profit  \n",
       "0      0.00   41.9136  \n",
       "1      0.00  219.5820  \n",
       "2      0.00    6.8714  \n",
       "3      0.45 -383.0310  \n",
       "4      0.20    2.5164  "
      ]
     },
     "execution_count": 143,
     "metadata": {},
     "output_type": "execute_result"
    }
   ],
   "source": [
    "#loading the dataset into the dataframe\n",
    "df = pd.read_csv(\"SampleSuperstore.csv\")\n",
    "\n",
    "#displaying the first 5 rows of df dataset\n",
    "df.head() "
   ]
  },
  {
   "cell_type": "markdown",
   "id": "excessive-terrace",
   "metadata": {},
   "source": [
    "### PRELIMINARY DATA ANALYSIS"
   ]
  },
  {
   "cell_type": "code",
   "execution_count": 144,
   "id": "killing-three",
   "metadata": {},
   "outputs": [
    {
     "data": {
      "text/plain": [
       "(9994, 13)"
      ]
     },
     "execution_count": 144,
     "metadata": {},
     "output_type": "execute_result"
    }
   ],
   "source": [
    "df.shape"
   ]
  },
  {
   "cell_type": "code",
   "execution_count": 145,
   "id": "optimum-berlin",
   "metadata": {},
   "outputs": [
    {
     "name": "stdout",
     "output_type": "stream",
     "text": [
      "<class 'pandas.core.frame.DataFrame'>\n",
      "RangeIndex: 9994 entries, 0 to 9993\n",
      "Data columns (total 13 columns):\n",
      " #   Column        Non-Null Count  Dtype  \n",
      "---  ------        --------------  -----  \n",
      " 0   Ship Mode     9994 non-null   object \n",
      " 1   Segment       9994 non-null   object \n",
      " 2   Country       9994 non-null   object \n",
      " 3   City          9994 non-null   object \n",
      " 4   State         9994 non-null   object \n",
      " 5   Postal Code   9994 non-null   int64  \n",
      " 6   Region        9994 non-null   object \n",
      " 7   Category      9994 non-null   object \n",
      " 8   Sub-Category  9994 non-null   object \n",
      " 9   Sales         9994 non-null   float64\n",
      " 10  Quantity      9994 non-null   int64  \n",
      " 11  Discount      9994 non-null   float64\n",
      " 12  Profit        9994 non-null   float64\n",
      "dtypes: float64(3), int64(2), object(8)\n",
      "memory usage: 1015.1+ KB\n"
     ]
    }
   ],
   "source": [
    "df.info() #to check the data type of diff columns and also to look for null values(if any)"
   ]
  },
  {
   "cell_type": "code",
   "execution_count": 146,
   "id": "engaging-breathing",
   "metadata": {},
   "outputs": [
    {
     "data": {
      "text/plain": [
       "Ship Mode          4\n",
       "Segment            3\n",
       "Country            1\n",
       "City             531\n",
       "State             49\n",
       "Postal Code      631\n",
       "Region             4\n",
       "Category           3\n",
       "Sub-Category      17\n",
       "Sales           5825\n",
       "Quantity          14\n",
       "Discount          12\n",
       "Profit          7287\n",
       "dtype: int64"
      ]
     },
     "execution_count": 146,
     "metadata": {},
     "output_type": "execute_result"
    }
   ],
   "source": [
    "df.nunique() #to get the no. of unique values in each of the datafield."
   ]
  },
  {
   "cell_type": "code",
   "execution_count": 147,
   "id": "cellular-equality",
   "metadata": {},
   "outputs": [
    {
     "data": {
      "text/plain": [
       "array(['Furniture', 'Office Supplies', 'Technology'], dtype=object)"
      ]
     },
     "execution_count": 147,
     "metadata": {},
     "output_type": "execute_result"
    }
   ],
   "source": [
    "df['Category'].unique() #to get the unique value in a field"
   ]
  },
  {
   "cell_type": "markdown",
   "id": "recovered-entrance",
   "metadata": {},
   "source": [
    "#### As there is no null value in the dataset we can calculate certain statistical analysis on the data"
   ]
  },
  {
   "cell_type": "code",
   "execution_count": 148,
   "id": "careful-moore",
   "metadata": {},
   "outputs": [
    {
     "data": {
      "text/html": [
       "<div>\n",
       "<style scoped>\n",
       "    .dataframe tbody tr th:only-of-type {\n",
       "        vertical-align: middle;\n",
       "    }\n",
       "\n",
       "    .dataframe tbody tr th {\n",
       "        vertical-align: top;\n",
       "    }\n",
       "\n",
       "    .dataframe thead th {\n",
       "        text-align: right;\n",
       "    }\n",
       "</style>\n",
       "<table border=\"1\" class=\"dataframe\">\n",
       "  <thead>\n",
       "    <tr style=\"text-align: right;\">\n",
       "      <th></th>\n",
       "      <th>Postal Code</th>\n",
       "      <th>Sales</th>\n",
       "      <th>Quantity</th>\n",
       "      <th>Discount</th>\n",
       "      <th>Profit</th>\n",
       "    </tr>\n",
       "  </thead>\n",
       "  <tbody>\n",
       "    <tr>\n",
       "      <th>count</th>\n",
       "      <td>9994.000000</td>\n",
       "      <td>9994.000000</td>\n",
       "      <td>9994.000000</td>\n",
       "      <td>9994.000000</td>\n",
       "      <td>9994.000000</td>\n",
       "    </tr>\n",
       "    <tr>\n",
       "      <th>mean</th>\n",
       "      <td>55190.379428</td>\n",
       "      <td>229.858001</td>\n",
       "      <td>3.789574</td>\n",
       "      <td>0.156203</td>\n",
       "      <td>28.656896</td>\n",
       "    </tr>\n",
       "    <tr>\n",
       "      <th>std</th>\n",
       "      <td>32063.693350</td>\n",
       "      <td>623.245101</td>\n",
       "      <td>2.225110</td>\n",
       "      <td>0.206452</td>\n",
       "      <td>234.260108</td>\n",
       "    </tr>\n",
       "    <tr>\n",
       "      <th>min</th>\n",
       "      <td>1040.000000</td>\n",
       "      <td>0.444000</td>\n",
       "      <td>1.000000</td>\n",
       "      <td>0.000000</td>\n",
       "      <td>-6599.978000</td>\n",
       "    </tr>\n",
       "    <tr>\n",
       "      <th>25%</th>\n",
       "      <td>23223.000000</td>\n",
       "      <td>17.280000</td>\n",
       "      <td>2.000000</td>\n",
       "      <td>0.000000</td>\n",
       "      <td>1.728750</td>\n",
       "    </tr>\n",
       "    <tr>\n",
       "      <th>50%</th>\n",
       "      <td>56430.500000</td>\n",
       "      <td>54.490000</td>\n",
       "      <td>3.000000</td>\n",
       "      <td>0.200000</td>\n",
       "      <td>8.666500</td>\n",
       "    </tr>\n",
       "    <tr>\n",
       "      <th>75%</th>\n",
       "      <td>90008.000000</td>\n",
       "      <td>209.940000</td>\n",
       "      <td>5.000000</td>\n",
       "      <td>0.200000</td>\n",
       "      <td>29.364000</td>\n",
       "    </tr>\n",
       "    <tr>\n",
       "      <th>max</th>\n",
       "      <td>99301.000000</td>\n",
       "      <td>22638.480000</td>\n",
       "      <td>14.000000</td>\n",
       "      <td>0.800000</td>\n",
       "      <td>8399.976000</td>\n",
       "    </tr>\n",
       "  </tbody>\n",
       "</table>\n",
       "</div>"
      ],
      "text/plain": [
       "        Postal Code         Sales     Quantity     Discount       Profit\n",
       "count   9994.000000   9994.000000  9994.000000  9994.000000  9994.000000\n",
       "mean   55190.379428    229.858001     3.789574     0.156203    28.656896\n",
       "std    32063.693350    623.245101     2.225110     0.206452   234.260108\n",
       "min     1040.000000      0.444000     1.000000     0.000000 -6599.978000\n",
       "25%    23223.000000     17.280000     2.000000     0.000000     1.728750\n",
       "50%    56430.500000     54.490000     3.000000     0.200000     8.666500\n",
       "75%    90008.000000    209.940000     5.000000     0.200000    29.364000\n",
       "max    99301.000000  22638.480000    14.000000     0.800000  8399.976000"
      ]
     },
     "execution_count": 148,
     "metadata": {},
     "output_type": "execute_result"
    }
   ],
   "source": [
    "df.describe() #to check the aggregates of the dataset"
   ]
  },
  {
   "cell_type": "markdown",
   "id": "tight-population",
   "metadata": {},
   "source": [
    "#### REMOVING DUPLICATE DATA"
   ]
  },
  {
   "cell_type": "code",
   "execution_count": 149,
   "id": "usual-mirror",
   "metadata": {},
   "outputs": [
    {
     "data": {
      "text/plain": [
       "17"
      ]
     },
     "execution_count": 149,
     "metadata": {},
     "output_type": "execute_result"
    }
   ],
   "source": [
    "df.duplicated().sum()"
   ]
  },
  {
   "cell_type": "code",
   "execution_count": 150,
   "id": "derived-mobility",
   "metadata": {},
   "outputs": [
    {
     "data": {
      "text/plain": [
       "(9977, 13)"
      ]
     },
     "execution_count": 150,
     "metadata": {},
     "output_type": "execute_result"
    }
   ],
   "source": [
    "df = df.drop_duplicates()\n",
    "df.shape"
   ]
  },
  {
   "cell_type": "markdown",
   "id": "psychological-deficit",
   "metadata": {},
   "source": [
    "### Working on to get some basic idea about the store performance"
   ]
  },
  {
   "cell_type": "code",
   "execution_count": 151,
   "id": "satellite-equality",
   "metadata": {},
   "outputs": [
    {
     "name": "stdout",
     "output_type": "stream",
     "text": [
      "Total Sales:  2296195.5903\n",
      "Total Profit:  286241.4226\n"
     ]
    }
   ],
   "source": [
    "#finding the total Sales and Profit made by the store\n",
    "\n",
    "print('Total Sales: ', df['Sales'].sum())\n",
    "print('Total Profit: ', df['Profit'].sum())"
   ]
  },
  {
   "cell_type": "markdown",
   "id": "metric-january",
   "metadata": {},
   "source": [
    "#### From the above figures we can calculate the overall gross profit margin = 12.46%"
   ]
  },
  {
   "cell_type": "code",
   "execution_count": 152,
   "id": "welsh-radical",
   "metadata": {},
   "outputs": [
    {
     "name": "stdout",
     "output_type": "stream",
     "text": [
      "Total Orders Received:  9977\n",
      "Total Quantity:  37820\n"
     ]
    }
   ],
   "source": [
    "#Calculating total quantities sold\n",
    "\n",
    "print('Total Orders Received: ', df['Sales'].count())\n",
    "print('Total Quantity: ', df['Quantity'].sum())"
   ]
  },
  {
   "cell_type": "markdown",
   "id": "collect-colonial",
   "metadata": {},
   "source": [
    "Average quantities sold per order = 3.8"
   ]
  },
  {
   "cell_type": "markdown",
   "id": "stylish-remark",
   "metadata": {},
   "source": [
    "## REGIONAL ANALYSIS"
   ]
  },
  {
   "cell_type": "code",
   "execution_count": 153,
   "id": "dangerous-waters",
   "metadata": {},
   "outputs": [
    {
     "data": {
      "text/plain": [
       "West       3193\n",
       "East       2845\n",
       "Central    2319\n",
       "South      1620\n",
       "Name: Region, dtype: int64"
      ]
     },
     "execution_count": 153,
     "metadata": {},
     "output_type": "execute_result"
    }
   ],
   "source": [
    "df['Region'].value_counts()"
   ]
  },
  {
   "cell_type": "code",
   "execution_count": 154,
   "id": "apparent-spouse",
   "metadata": {},
   "outputs": [
    {
     "data": {
      "image/png": "[encoded data removed]",
      "text/plain": [
       "<Figure size 504x504 with 1 Axes>"
      ]
     },
     "metadata": {},
     "output_type": "display_data"
    }
   ],
   "source": [
    "#analyzing the no of orders received per region\n",
    "\n",
    "plt.figure(figsize=(7,7))\n",
    "plt.pie(df['Region'].value_counts(), labels=df['Region'].value_counts().index, autopct=\"%.1f%%\")\n",
    "plt.title(\"Region-Wise order analysis\", fontsize=20)\n",
    "plt.legend()\n",
    "plt.show()"
   ]
  },
  {
   "cell_type": "markdown",
   "id": "daily-height",
   "metadata": {},
   "source": [
    "This pie chart depicts that the Western region witnessed max transcations followed by Eastern, Central, and Southern region "
   ]
  },
  {
   "cell_type": "code",
   "execution_count": 155,
   "id": "scheduled-identity",
   "metadata": {},
   "outputs": [
    {
     "data": {
      "text/html": [
       "<div>\n",
       "<style scoped>\n",
       "    .dataframe tbody tr th:only-of-type {\n",
       "        vertical-align: middle;\n",
       "    }\n",
       "\n",
       "    .dataframe tbody tr th {\n",
       "        vertical-align: top;\n",
       "    }\n",
       "\n",
       "    .dataframe thead th {\n",
       "        text-align: right;\n",
       "    }\n",
       "</style>\n",
       "<table border=\"1\" class=\"dataframe\">\n",
       "  <thead>\n",
       "    <tr style=\"text-align: right;\">\n",
       "      <th></th>\n",
       "      <th>Sales</th>\n",
       "      <th>Profit</th>\n",
       "    </tr>\n",
       "    <tr>\n",
       "      <th>Region</th>\n",
       "      <th></th>\n",
       "      <th></th>\n",
       "    </tr>\n",
       "  </thead>\n",
       "  <tbody>\n",
       "    <tr>\n",
       "      <th>Central</th>\n",
       "      <td>500782.8528</td>\n",
       "      <td>39655.8752</td>\n",
       "    </tr>\n",
       "    <tr>\n",
       "      <th>East</th>\n",
       "      <td>678435.1960</td>\n",
       "      <td>91506.3092</td>\n",
       "    </tr>\n",
       "    <tr>\n",
       "      <th>South</th>\n",
       "      <td>391721.9050</td>\n",
       "      <td>46749.4303</td>\n",
       "    </tr>\n",
       "    <tr>\n",
       "      <th>West</th>\n",
       "      <td>725255.6365</td>\n",
       "      <td>108329.8079</td>\n",
       "    </tr>\n",
       "  </tbody>\n",
       "</table>\n",
       "</div>"
      ],
      "text/plain": [
       "               Sales       Profit\n",
       "Region                           \n",
       "Central  500782.8528   39655.8752\n",
       "East     678435.1960   91506.3092\n",
       "South    391721.9050   46749.4303\n",
       "West     725255.6365  108329.8079"
      ]
     },
     "execution_count": 155,
     "metadata": {},
     "output_type": "execute_result"
    }
   ],
   "source": [
    "df.groupby('Region')[['Sales','Profit']].sum()"
   ]
  },
  {
   "cell_type": "markdown",
   "id": "stupid-justice",
   "metadata": {},
   "source": [
    "#### Gross Profit Margin:\n",
    "Central = 7.91%\n",
    "East = 13.49%\n",
    "South = 11.93%\n",
    "West = 14.93%\n",
    "\n",
    "Here we can see that GPM of central region is way lower than the overall GPM"
   ]
  },
  {
   "cell_type": "code",
   "execution_count": 156,
   "id": "closed-capital",
   "metadata": {},
   "outputs": [
    {
     "data": {
      "text/plain": [
       "<function matplotlib.pyplot.show(close=None, block=None)>"
      ]
     },
     "execution_count": 156,
     "metadata": {},
     "output_type": "execute_result"
    },
    {
     "data": {
      "image/png": "[encoded data removed]",
      "text/plain": [
       "<Figure size 432x288 with 1 Axes>"
      ]
     },
     "metadata": {
      "needs_background": "light"
     },
     "output_type": "display_data"
    }
   ],
   "source": [
    "#Analyzing Sales and Profit from each region \n",
    "\n",
    "# plt.figure(figsize=(10,5))\n",
    "df.groupby('Region')[['Sales','Profit']].sum().plot.bar(color=['lightblue','lightgreen'])\n",
    "plt.title('Region-Wise Sales and Profit Analysis ')\n",
    "plt.legend()\n",
    "plt.show"
   ]
  },
  {
   "cell_type": "markdown",
   "id": "coordinated-russia",
   "metadata": {},
   "source": [
    "In the above barlplot we can see that max sales comes from the Western region followed by the Eastern, Central, and the Southern region\n",
    "\n",
    "Also that the Western region has max Profit followed by Eastern, Southern, and Central region"
   ]
  },
  {
   "cell_type": "code",
   "execution_count": 157,
   "id": "handmade-intention",
   "metadata": {},
   "outputs": [
    {
     "data": {
      "text/html": [
       "<div>\n",
       "<style scoped>\n",
       "    .dataframe tbody tr th:only-of-type {\n",
       "        vertical-align: middle;\n",
       "    }\n",
       "\n",
       "    .dataframe tbody tr th {\n",
       "        vertical-align: top;\n",
       "    }\n",
       "\n",
       "    .dataframe thead th {\n",
       "        text-align: right;\n",
       "    }\n",
       "</style>\n",
       "<table border=\"1\" class=\"dataframe\">\n",
       "  <thead>\n",
       "    <tr style=\"text-align: right;\">\n",
       "      <th></th>\n",
       "      <th></th>\n",
       "      <th>Sales</th>\n",
       "      <th>Profit</th>\n",
       "    </tr>\n",
       "    <tr>\n",
       "      <th>Region</th>\n",
       "      <th>Category</th>\n",
       "      <th></th>\n",
       "      <th></th>\n",
       "    </tr>\n",
       "  </thead>\n",
       "  <tbody>\n",
       "    <tr>\n",
       "      <th rowspan=\"3\" valign=\"top\">Central</th>\n",
       "      <th>Furniture</th>\n",
       "      <td>163407.1938</td>\n",
       "      <td>-2906.1467</td>\n",
       "    </tr>\n",
       "    <tr>\n",
       "      <th>Office Supplies</th>\n",
       "      <td>166959.3470</td>\n",
       "      <td>8864.5899</td>\n",
       "    </tr>\n",
       "    <tr>\n",
       "      <th>Technology</th>\n",
       "      <td>170416.3120</td>\n",
       "      <td>33697.4320</td>\n",
       "    </tr>\n",
       "    <tr>\n",
       "      <th rowspan=\"3\" valign=\"top\">East</th>\n",
       "      <th>Furniture</th>\n",
       "      <td>208009.8320</td>\n",
       "      <td>3058.2246</td>\n",
       "    </tr>\n",
       "    <tr>\n",
       "      <th>Office Supplies</th>\n",
       "      <td>205451.3830</td>\n",
       "      <td>40986.0495</td>\n",
       "    </tr>\n",
       "    <tr>\n",
       "      <th>Technology</th>\n",
       "      <td>264973.9810</td>\n",
       "      <td>47462.0351</td>\n",
       "    </tr>\n",
       "    <tr>\n",
       "      <th rowspan=\"3\" valign=\"top\">South</th>\n",
       "      <th>Furniture</th>\n",
       "      <td>117298.6840</td>\n",
       "      <td>6771.2061</td>\n",
       "    </tr>\n",
       "    <tr>\n",
       "      <th>Office Supplies</th>\n",
       "      <td>125651.3130</td>\n",
       "      <td>19986.3928</td>\n",
       "    </tr>\n",
       "    <tr>\n",
       "      <th>Technology</th>\n",
       "      <td>148771.9080</td>\n",
       "      <td>19991.8314</td>\n",
       "    </tr>\n",
       "    <tr>\n",
       "      <th rowspan=\"3\" valign=\"top\">West</th>\n",
       "      <th>Furniture</th>\n",
       "      <td>252590.6035</td>\n",
       "      <td>11498.5297</td>\n",
       "    </tr>\n",
       "    <tr>\n",
       "      <th>Office Supplies</th>\n",
       "      <td>220673.2010</td>\n",
       "      <td>52527.6286</td>\n",
       "    </tr>\n",
       "    <tr>\n",
       "      <th>Technology</th>\n",
       "      <td>251991.8320</td>\n",
       "      <td>44303.6496</td>\n",
       "    </tr>\n",
       "  </tbody>\n",
       "</table>\n",
       "</div>"
      ],
      "text/plain": [
       "                               Sales      Profit\n",
       "Region  Category                                \n",
       "Central Furniture        163407.1938  -2906.1467\n",
       "        Office Supplies  166959.3470   8864.5899\n",
       "        Technology       170416.3120  33697.4320\n",
       "East    Furniture        208009.8320   3058.2246\n",
       "        Office Supplies  205451.3830  40986.0495\n",
       "        Technology       264973.9810  47462.0351\n",
       "South   Furniture        117298.6840   6771.2061\n",
       "        Office Supplies  125651.3130  19986.3928\n",
       "        Technology       148771.9080  19991.8314\n",
       "West    Furniture        252590.6035  11498.5297\n",
       "        Office Supplies  220673.2010  52527.6286\n",
       "        Technology       251991.8320  44303.6496"
      ]
     },
     "execution_count": 157,
     "metadata": {},
     "output_type": "execute_result"
    }
   ],
   "source": [
    "df.groupby(['Region','Category'])[['Sales','Profit']].sum()"
   ]
  },
  {
   "cell_type": "code",
   "execution_count": 158,
   "id": "existing-nothing",
   "metadata": {},
   "outputs": [
    {
     "data": {
      "text/html": [
       "<div>\n",
       "<style scoped>\n",
       "    .dataframe tbody tr th:only-of-type {\n",
       "        vertical-align: middle;\n",
       "    }\n",
       "\n",
       "    .dataframe tbody tr th {\n",
       "        vertical-align: top;\n",
       "    }\n",
       "\n",
       "    .dataframe thead tr th {\n",
       "        text-align: left;\n",
       "    }\n",
       "\n",
       "    .dataframe thead tr:last-of-type th {\n",
       "        text-align: right;\n",
       "    }\n",
       "</style>\n",
       "<table border=\"1\" class=\"dataframe\">\n",
       "  <thead>\n",
       "    <tr>\n",
       "      <th></th>\n",
       "      <th colspan=\"3\" halign=\"left\">Sales</th>\n",
       "      <th colspan=\"3\" halign=\"left\">Profit</th>\n",
       "    </tr>\n",
       "    <tr>\n",
       "      <th>Category</th>\n",
       "      <th>Furniture</th>\n",
       "      <th>Office Supplies</th>\n",
       "      <th>Technology</th>\n",
       "      <th>Furniture</th>\n",
       "      <th>Office Supplies</th>\n",
       "      <th>Technology</th>\n",
       "    </tr>\n",
       "    <tr>\n",
       "      <th>Region</th>\n",
       "      <th></th>\n",
       "      <th></th>\n",
       "      <th></th>\n",
       "      <th></th>\n",
       "      <th></th>\n",
       "      <th></th>\n",
       "    </tr>\n",
       "  </thead>\n",
       "  <tbody>\n",
       "    <tr>\n",
       "      <th>Central</th>\n",
       "      <td>163407.1938</td>\n",
       "      <td>166959.347</td>\n",
       "      <td>170416.312</td>\n",
       "      <td>-2906.1467</td>\n",
       "      <td>8864.5899</td>\n",
       "      <td>33697.4320</td>\n",
       "    </tr>\n",
       "    <tr>\n",
       "      <th>East</th>\n",
       "      <td>208009.8320</td>\n",
       "      <td>205451.383</td>\n",
       "      <td>264973.981</td>\n",
       "      <td>3058.2246</td>\n",
       "      <td>40986.0495</td>\n",
       "      <td>47462.0351</td>\n",
       "    </tr>\n",
       "    <tr>\n",
       "      <th>South</th>\n",
       "      <td>117298.6840</td>\n",
       "      <td>125651.313</td>\n",
       "      <td>148771.908</td>\n",
       "      <td>6771.2061</td>\n",
       "      <td>19986.3928</td>\n",
       "      <td>19991.8314</td>\n",
       "    </tr>\n",
       "    <tr>\n",
       "      <th>West</th>\n",
       "      <td>252590.6035</td>\n",
       "      <td>220673.201</td>\n",
       "      <td>251991.832</td>\n",
       "      <td>11498.5297</td>\n",
       "      <td>52527.6286</td>\n",
       "      <td>44303.6496</td>\n",
       "    </tr>\n",
       "  </tbody>\n",
       "</table>\n",
       "</div>"
      ],
      "text/plain": [
       "                Sales                                  Profit                  \\\n",
       "Category    Furniture Office Supplies  Technology   Furniture Office Supplies   \n",
       "Region                                                                          \n",
       "Central   163407.1938      166959.347  170416.312  -2906.1467       8864.5899   \n",
       "East      208009.8320      205451.383  264973.981   3058.2246      40986.0495   \n",
       "South     117298.6840      125651.313  148771.908   6771.2061      19986.3928   \n",
       "West      252590.6035      220673.201  251991.832  11498.5297      52527.6286   \n",
       "\n",
       "                      \n",
       "Category  Technology  \n",
       "Region                \n",
       "Central   33697.4320  \n",
       "East      47462.0351  \n",
       "South     19991.8314  \n",
       "West      44303.6496  "
      ]
     },
     "execution_count": 158,
     "metadata": {},
     "output_type": "execute_result"
    }
   ],
   "source": [
    "# df.groupby(['Region','Category'])[['Sales']].sum().reset_index()\n",
    "df.groupby(['Region','Category'], as_index=False)[['Sales','Profit']].sum().pivot('Region', 'Category').fillna(0)\n"
   ]
  },
  {
   "cell_type": "code",
   "execution_count": 159,
   "id": "outdoor-bumper",
   "metadata": {},
   "outputs": [
    {
     "data": {
      "image/png": "[encoded data removed]",
      "text/plain": [
       "<Figure size 432x288 with 1 Axes>"
      ]
     },
     "metadata": {
      "needs_background": "light"
     },
     "output_type": "display_data"
    }
   ],
   "source": [
    "df.groupby(['Region','Category'], as_index=False)[['Sales']].sum().pivot('Region', 'Category').fillna(0).plot.bar()\n",
    "plt.title('Region-Wise Category Sales')\n",
    "plt.show()"
   ]
  },
  {
   "cell_type": "code",
   "execution_count": 160,
   "id": "relative-waterproof",
   "metadata": {},
   "outputs": [
    {
     "data": {
      "image/png": "[encoded data removed]",
      "text/plain": [
       "<Figure size 432x288 with 1 Axes>"
      ]
     },
     "metadata": {
      "needs_background": "light"
     },
     "output_type": "display_data"
    }
   ],
   "source": [
    "df.groupby(['Region','Category'], as_index=False)[['Profit']].sum().pivot('Region', 'Category').fillna(0).plot.bar()\n",
    "plt.title('Region-Wise Category Profit')\n",
    "plt.show()"
   ]
  },
  {
   "cell_type": "markdown",
   "id": "supposed-bhutan",
   "metadata": {},
   "source": [
    "Here we can see that the furniture category as well as the Office Supplies category are bringing down the overall GPM for the Central region."
   ]
  },
  {
   "cell_type": "markdown",
   "id": "dominican-passage",
   "metadata": {},
   "source": [
    "### CATEGORY ANALYSIS"
   ]
  },
  {
   "cell_type": "code",
   "execution_count": 161,
   "id": "palestinian-design",
   "metadata": {},
   "outputs": [
    {
     "data": {
      "text/html": [
       "<div>\n",
       "<style scoped>\n",
       "    .dataframe tbody tr th:only-of-type {\n",
       "        vertical-align: middle;\n",
       "    }\n",
       "\n",
       "    .dataframe tbody tr th {\n",
       "        vertical-align: top;\n",
       "    }\n",
       "\n",
       "    .dataframe thead th {\n",
       "        text-align: right;\n",
       "    }\n",
       "</style>\n",
       "<table border=\"1\" class=\"dataframe\">\n",
       "  <thead>\n",
       "    <tr style=\"text-align: right;\">\n",
       "      <th></th>\n",
       "      <th>Sales</th>\n",
       "      <th>Profit</th>\n",
       "    </tr>\n",
       "    <tr>\n",
       "      <th>Category</th>\n",
       "      <th></th>\n",
       "      <th></th>\n",
       "    </tr>\n",
       "  </thead>\n",
       "  <tbody>\n",
       "    <tr>\n",
       "      <th>Furniture</th>\n",
       "      <td>741306.3133</td>\n",
       "      <td>18421.8137</td>\n",
       "    </tr>\n",
       "    <tr>\n",
       "      <th>Office Supplies</th>\n",
       "      <td>718735.2440</td>\n",
       "      <td>122364.6608</td>\n",
       "    </tr>\n",
       "    <tr>\n",
       "      <th>Technology</th>\n",
       "      <td>836154.0330</td>\n",
       "      <td>145454.9481</td>\n",
       "    </tr>\n",
       "  </tbody>\n",
       "</table>\n",
       "</div>"
      ],
      "text/plain": [
       "                       Sales       Profit\n",
       "Category                                 \n",
       "Furniture        741306.3133   18421.8137\n",
       "Office Supplies  718735.2440  122364.6608\n",
       "Technology       836154.0330  145454.9481"
      ]
     },
     "execution_count": 161,
     "metadata": {},
     "output_type": "execute_result"
    }
   ],
   "source": [
    "df.groupby('Category')[['Sales','Profit']].sum()"
   ]
  },
  {
   "cell_type": "markdown",
   "id": "creative-mayor",
   "metadata": {},
   "source": [
    "#### Gross Profit Margin:\n",
    "Furniture = 2.48%\n",
    "Office Supplies = 17.02%\n",
    "Technology = 17.39%"
   ]
  },
  {
   "cell_type": "code",
   "execution_count": 162,
   "id": "higher-execution",
   "metadata": {},
   "outputs": [
    {
     "data": {
      "image/png": "[encoded data removed]",
      "text/plain": [
       "<Figure size 432x288 with 1 Axes>"
      ]
     },
     "metadata": {
      "needs_background": "light"
     },
     "output_type": "display_data"
    }
   ],
   "source": [
    "#Analyzinf Sales and Profit figures Category wise\n",
    "\n",
    "df.groupby('Category')[['Sales','Profit']].sum().plot.bar(color=['lightblue','lightgreen'])\n",
    "plt.title('Category-Wise Analysis', fontsize=20)\n",
    "plt.legend(loc='upper right')\n",
    "plt.show()"
   ]
  },
  {
   "cell_type": "markdown",
   "id": "adjusted-cherry",
   "metadata": {},
   "source": [
    "From the above barplot we can see that Technology category brings in max sales as well as max profits followed by Office Supplies and Furniture"
   ]
  },
  {
   "cell_type": "markdown",
   "id": "gorgeous-kinase",
   "metadata": {},
   "source": [
    "From the above analysis we can see that inspite of hige sales in the Furniture segment profits are the lowest among all the categories.\n",
    "To analyze further what is causing this decline in profit lets dive deep into the furniture segment"
   ]
  },
  {
   "cell_type": "code",
   "execution_count": 163,
   "id": "choice-generic",
   "metadata": {},
   "outputs": [
    {
     "data": {
      "image/png": "[encoded data removed]",
      "text/plain": [
       "<Figure size 432x288 with 1 Axes>"
      ]
     },
     "metadata": {
      "needs_background": "light"
     },
     "output_type": "display_data"
    }
   ],
   "source": [
    "df[df['Category'] == 'Furniture'].groupby('Sub-Category')['Sales','Profit'].sum().plot.bar()\n",
    "plt.title('SALES AND PROFIT FURNITURE CATEGORY WISE ')\n",
    "plt.legend(loc = 1)\n",
    "plt.show()"
   ]
  },
  {
   "cell_type": "markdown",
   "id": "lovely-disabled",
   "metadata": {},
   "source": [
    "Here we can see that irrespective of high sales in the Bookcases and Tables segment the store is incurring losses which in turn is causing the decline of the overall Furniture segment"
   ]
  },
  {
   "cell_type": "code",
   "execution_count": 164,
   "id": "maritime-minnesota",
   "metadata": {},
   "outputs": [
    {
     "data": {
      "image/png": "[encoded data removed]",
      "text/plain": [
       "<Figure size 432x288 with 1 Axes>"
      ]
     },
     "metadata": {
      "needs_background": "light"
     },
     "output_type": "display_data"
    }
   ],
   "source": [
    "# To check the probable reason of loss \n",
    "\n",
    "df[df['Category'] == 'Furniture'].groupby('Sub-Category')['Discount'].mean().plot.bar(color =['orange'])\n",
    "plt.title('DISCOUNT GIVEN IN FURNITURE CATEGORY')\n",
    "plt.legend(loc = 0)\n",
    "plt.show()"
   ]
  },
  {
   "cell_type": "markdown",
   "id": "medical-subscriber",
   "metadata": {},
   "source": [
    "Despite huge discounts Bookcases and Tables Category are incurring losses"
   ]
  },
  {
   "cell_type": "code",
   "execution_count": 165,
   "id": "treated-recall",
   "metadata": {},
   "outputs": [
    {
     "data": {
      "image/png": "[encoded data removed]",
      "text/plain": [
       "<Figure size 432x288 with 2 Axes>"
      ]
     },
     "metadata": {
      "needs_background": "light"
     },
     "output_type": "display_data"
    }
   ],
   "source": [
    "# To check the correlation in between Sales and Discount\n",
    "\n",
    "sns.heatmap(df.corr(),annot=True , cmap= 'Blues')\n",
    "plt.show()"
   ]
  },
  {
   "cell_type": "markdown",
   "id": "applicable-gospel",
   "metadata": {},
   "source": [
    "From the above heatmap we can conclude that there is a negative correlation between Profit and discount and Sales and discount, whereas there is a positive correlation between Profit and Sales"
   ]
  },
  {
   "cell_type": "code",
   "execution_count": 166,
   "id": "planned-devices",
   "metadata": {},
   "outputs": [
    {
     "data": {
      "image/png": "[encoded data removed]",
      "text/plain": [
       "<Figure size 720x360 with 2 Axes>"
      ]
     },
     "metadata": {},
     "output_type": "display_data"
    }
   ],
   "source": [
    "plt.style.use('seaborn')\n",
    "df.plot(kind = 'scatter', figsize = (10,5) , x = 'Sales', y='Profit', c = 'Discount' , s = 20 , fontsize = 16 , colormap = 'plasma')\n",
    "plt.ylabel('TOTAL PROFITS', fontsize = 16)\n",
    "plt.title('DEPENDENCY OF SALES AND PROFIT ON DISCOUNT' , fontsize = 16)\n",
    "plt.show()"
   ]
  },
  {
   "cell_type": "markdown",
   "id": "legislative-duplicate",
   "metadata": {},
   "source": [
    "The above Scatterplot depicts that less the discount more is the Profits. Discount is effecting profit to a certain extent and after that point Profits has no relation with Discount"
   ]
  },
  {
   "cell_type": "markdown",
   "id": "comfortable-explosion",
   "metadata": {},
   "source": [
    "### SUB-CATEGORY WISE ANALYSIS"
   ]
  },
  {
   "cell_type": "code",
   "execution_count": 167,
   "id": "frozen-botswana",
   "metadata": {},
   "outputs": [
    {
     "data": {
      "image/png": "[encoded data removed]",
      "text/plain": [
       "<Figure size 576x396 with 1 Axes>"
      ]
     },
     "metadata": {},
     "output_type": "display_data"
    }
   ],
   "source": [
    "#Analyzing top selling products\n",
    "df.groupby('Sub-Category')['Sales'].sum().sort_values(ascending=False).plot.bar(color = 'skyblue')\n",
    "plt.show()"
   ]
  },
  {
   "cell_type": "markdown",
   "id": "spectacular-dragon",
   "metadata": {},
   "source": [
    "Here we can see tha Phones, Chairs, Storage, Tables, Blinders are the top selling Products "
   ]
  },
  {
   "cell_type": "code",
   "execution_count": 168,
   "id": "accepting-familiar",
   "metadata": {},
   "outputs": [
    {
     "data": {
      "image/png": "[encoded data removed]",
      "text/plain": [
       "<Figure size 576x396 with 1 Axes>"
      ]
     },
     "metadata": {},
     "output_type": "display_data"
    }
   ],
   "source": [
    "#To check the profit earned in all the  Sub-Categories\n",
    "\n",
    "df.groupby('Sub-Category')['Profit'].sum().sort_values(ascending = False).plot.bar(color = 'orange')\n",
    "plt.show()"
   ]
  },
  {
   "cell_type": "markdown",
   "id": "lovely-johns",
   "metadata": {},
   "source": [
    "Top 5 most profitable poducts are Copiers, Phones, Accessories, Paper, Blinders"
   ]
  },
  {
   "cell_type": "markdown",
   "id": "sacred-sailing",
   "metadata": {},
   "source": [
    "### CUSTOMER ANALYSIS"
   ]
  },
  {
   "cell_type": "code",
   "execution_count": 169,
   "id": "liked-palace",
   "metadata": {},
   "outputs": [
    {
     "data": {
      "text/html": [
       "<div>\n",
       "<style scoped>\n",
       "    .dataframe tbody tr th:only-of-type {\n",
       "        vertical-align: middle;\n",
       "    }\n",
       "\n",
       "    .dataframe tbody tr th {\n",
       "        vertical-align: top;\n",
       "    }\n",
       "\n",
       "    .dataframe thead th {\n",
       "        text-align: right;\n",
       "    }\n",
       "</style>\n",
       "<table border=\"1\" class=\"dataframe\">\n",
       "  <thead>\n",
       "    <tr style=\"text-align: right;\">\n",
       "      <th></th>\n",
       "      <th>Sales</th>\n",
       "      <th>Profit</th>\n",
       "    </tr>\n",
       "    <tr>\n",
       "      <th>Segment</th>\n",
       "      <th></th>\n",
       "      <th></th>\n",
       "    </tr>\n",
       "  </thead>\n",
       "  <tbody>\n",
       "    <tr>\n",
       "      <th>Consumer</th>\n",
       "      <td>1.160833e+06</td>\n",
       "      <td>134007.4413</td>\n",
       "    </tr>\n",
       "    <tr>\n",
       "      <th>Corporate</th>\n",
       "      <td>7.060701e+05</td>\n",
       "      <td>91954.9798</td>\n",
       "    </tr>\n",
       "    <tr>\n",
       "      <th>Home Office</th>\n",
       "      <td>4.292927e+05</td>\n",
       "      <td>60279.0015</td>\n",
       "    </tr>\n",
       "  </tbody>\n",
       "</table>\n",
       "</div>"
      ],
      "text/plain": [
       "                    Sales       Profit\n",
       "Segment                               \n",
       "Consumer     1.160833e+06  134007.4413\n",
       "Corporate    7.060701e+05   91954.9798\n",
       "Home Office  4.292927e+05   60279.0015"
      ]
     },
     "execution_count": 169,
     "metadata": {},
     "output_type": "execute_result"
    }
   ],
   "source": [
    "#Analyzing Sales and Profit data segment wise\n",
    "\n",
    "df.groupby('Segment')[['Sales','Profit']].sum()"
   ]
  },
  {
   "cell_type": "markdown",
   "id": "industrial-madagascar",
   "metadata": {},
   "source": [
    "#### Gross Profit Margin:\n",
    "Consumer = 11.54%\n",
    "Corporate = 13.02%\n",
    "Home Office = 14.04%"
   ]
  },
  {
   "cell_type": "code",
   "execution_count": 170,
   "id": "fatal-latter",
   "metadata": {},
   "outputs": [
    {
     "data": {
      "image/png": "[encoded data removed]",
      "text/plain": [
       "<Figure size 576x396 with 1 Axes>"
      ]
     },
     "metadata": {},
     "output_type": "display_data"
    }
   ],
   "source": [
    "df.groupby('Segment')[['Sales','Profit']].sum().plot.bar(color=['lightBlue','lightGreen'])\n",
    "plt.title('Segment-Wise Sales Analysis')\n",
    "plt.show()"
   ]
  },
  {
   "cell_type": "markdown",
   "id": "assigned-being",
   "metadata": {},
   "source": [
    "Here we can see that Consumer segment accounts for maximum sales and profits followed by Corporate and Home Office segments"
   ]
  },
  {
   "cell_type": "code",
   "execution_count": 172,
   "id": "consecutive-pacific",
   "metadata": {},
   "outputs": [
    {
     "data": {
      "text/html": [
       "<div>\n",
       "<style scoped>\n",
       "    .dataframe tbody tr th:only-of-type {\n",
       "        vertical-align: middle;\n",
       "    }\n",
       "\n",
       "    .dataframe tbody tr th {\n",
       "        vertical-align: top;\n",
       "    }\n",
       "\n",
       "    .dataframe thead th {\n",
       "        text-align: right;\n",
       "    }\n",
       "</style>\n",
       "<table border=\"1\" class=\"dataframe\">\n",
       "  <thead>\n",
       "    <tr style=\"text-align: right;\">\n",
       "      <th></th>\n",
       "      <th></th>\n",
       "      <th>Sales</th>\n",
       "      <th>Profit</th>\n",
       "    </tr>\n",
       "    <tr>\n",
       "      <th>Segment</th>\n",
       "      <th>Category</th>\n",
       "      <th></th>\n",
       "      <th></th>\n",
       "    </tr>\n",
       "  </thead>\n",
       "  <tbody>\n",
       "    <tr>\n",
       "      <th rowspan=\"3\" valign=\"top\">Consumer</th>\n",
       "      <th>Furniture</th>\n",
       "      <td>390659.3420</td>\n",
       "      <td>6955.9813</td>\n",
       "    </tr>\n",
       "    <tr>\n",
       "      <th>Office Supplies</th>\n",
       "      <td>363773.5360</td>\n",
       "      <td>56253.6504</td>\n",
       "    </tr>\n",
       "    <tr>\n",
       "      <th>Technology</th>\n",
       "      <td>406399.8970</td>\n",
       "      <td>70797.8096</td>\n",
       "    </tr>\n",
       "    <tr>\n",
       "      <th rowspan=\"3\" valign=\"top\">Corporate</th>\n",
       "      <th>Furniture</th>\n",
       "      <td>229019.7858</td>\n",
       "      <td>7584.8158</td>\n",
       "    </tr>\n",
       "    <tr>\n",
       "      <th>Office Supplies</th>\n",
       "      <td>230600.2260</td>\n",
       "      <td>40203.1660</td>\n",
       "    </tr>\n",
       "    <tr>\n",
       "      <th>Technology</th>\n",
       "      <td>246450.1190</td>\n",
       "      <td>44166.9980</td>\n",
       "    </tr>\n",
       "    <tr>\n",
       "      <th rowspan=\"3\" valign=\"top\">Home Office</th>\n",
       "      <th>Furniture</th>\n",
       "      <td>121627.1855</td>\n",
       "      <td>3881.0166</td>\n",
       "    </tr>\n",
       "    <tr>\n",
       "      <th>Office Supplies</th>\n",
       "      <td>124361.4820</td>\n",
       "      <td>25907.8444</td>\n",
       "    </tr>\n",
       "    <tr>\n",
       "      <th>Technology</th>\n",
       "      <td>183304.0170</td>\n",
       "      <td>30490.1405</td>\n",
       "    </tr>\n",
       "  </tbody>\n",
       "</table>\n",
       "</div>"
      ],
      "text/plain": [
       "                                   Sales      Profit\n",
       "Segment     Category                                \n",
       "Consumer    Furniture        390659.3420   6955.9813\n",
       "            Office Supplies  363773.5360  56253.6504\n",
       "            Technology       406399.8970  70797.8096\n",
       "Corporate   Furniture        229019.7858   7584.8158\n",
       "            Office Supplies  230600.2260  40203.1660\n",
       "            Technology       246450.1190  44166.9980\n",
       "Home Office Furniture        121627.1855   3881.0166\n",
       "            Office Supplies  124361.4820  25907.8444\n",
       "            Technology       183304.0170  30490.1405"
      ]
     },
     "execution_count": 172,
     "metadata": {},
     "output_type": "execute_result"
    }
   ],
   "source": [
    "df.groupby(['Segment','Category'])[['Sales','Profit']].sum()"
   ]
  },
  {
   "cell_type": "code",
   "execution_count": 171,
   "id": "molecular-ethnic",
   "metadata": {},
   "outputs": [
    {
     "data": {
      "image/png": "[encoded data removed]",
      "text/plain": [
       "<Figure size 576x396 with 1 Axes>"
      ]
     },
     "metadata": {},
     "output_type": "display_data"
    }
   ],
   "source": [
    "#Checking for ship mode segment wise\n",
    "\n",
    "sns.countplot(x='Segment' , hue='Ship Mode' , data=df)\n",
    "plt.show()"
   ]
  },
  {
   "cell_type": "markdown",
   "id": "baking-convention",
   "metadata": {},
   "source": [
    "From the above we can see that Standard Class shipping is the most common ship mode across all Segments"
   ]
  },
  {
   "cell_type": "markdown",
   "id": "outstanding-efficiency",
   "metadata": {},
   "source": [
    "## OBSERVATIONS:\n",
    "- Maximum Sales and Profit in the Western Region\n",
    "- Southern Region has the least Sales figures\n",
    "- Central Region despite huge Sales has the lowest Profit and Profit Margins\n",
    "- Sales of Technolgy Product is considerably higher than the other two Category in the Eastern Region\n",
    "- Despite huge Sales in the Furniture Category Profits are very low compared to other categories. It is maily due to the losses  in Bookcases and Tables\n",
    "- Negative correlation between Profit and discount and Sales and discount\n",
    "- Positive correlation between Sales and Profit\n",
    "- Phones, Chairs, Storage are the top performing products Sales wise\n",
    "- Copiers, Phones, Accessories are the top performig products Profit wise\n",
    "- Consumer segment accounts for maximum Sales and Profit\n",
    "- Standard Class shipping is the most common ship mode across all Segments\n"
   ]
  },
  {
   "cell_type": "markdown",
   "id": "united-briefing",
   "metadata": {},
   "source": [
    "## CONCLUSION\n",
    "- We need to find ways to increase our sales in the Southern Region\n",
    "- We need to increase our profit margin in the Central Region \n",
    "- Increase sales of Office Supplies and Furniture in the Easten Region\n",
    "- Need to improve profit figures of the Furniture Category which can be done by lowering discounts, improving product catalogue, reducing costs etc\n",
    "- Fix loss making products like Tables, Bookcases, Supplies either by improving sales or reducing costs. We can also discontinue some loss making products if required but should be done considering the strategic benefit also. \n",
    "- We should focus on improving sales in the Home Office segment which can be done by providing better price, variety of office supplies and Furniture category."
   ]
  }
 ],
 "metadata": {
  "kernelspec": {
   "display_name": "Python 3",
   "language": "python",
   "name": "python3"
  },
  "language_info": {
   "codemirror_mode": {
    "name": "ipython",
    "version": 3
   },
   "file_extension": ".py",
   "mimetype": "text/x-python",
   "name": "python",
   "nbconvert_exporter": "python",
   "pygments_lexer": "ipython3",
   "version": "3.9.5"
  }
 },
 "nbformat": 4,
 "nbformat_minor": 5
}
